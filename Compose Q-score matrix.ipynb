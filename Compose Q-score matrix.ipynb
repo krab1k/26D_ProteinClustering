{
 "cells": [
  {
   "cell_type": "code",
   "execution_count": 1,
   "metadata": {},
   "outputs": [],
   "source": [
    "import numpy as np"
   ]
  },
  {
   "cell_type": "code",
   "execution_count": 2,
   "metadata": {},
   "outputs": [],
   "source": [
    "SIZE = 10\n",
    "BLOCK_SIZE = 3000"
   ]
  },
  {
   "cell_type": "code",
   "execution_count": 3,
   "metadata": {},
   "outputs": [],
   "source": [
    "data = np.empty((BLOCK_SIZE * SIZE , BLOCK_SIZE * SIZE), dtype=np.float32)"
   ]
  },
  {
   "cell_type": "code",
   "execution_count": 5,
   "metadata": {},
   "outputs": [
    {
     "name": "stdout",
     "output_type": "stream",
     "text": [
      "Block 0:0 loaded\n",
      "Block 0:1 loaded\n",
      "Block 0:2 loaded\n",
      "Block 0:3 loaded\n",
      "Block 0:4 loaded\n",
      "Block 0:5 loaded\n",
      "Block 0:6 loaded\n",
      "Block 0:7 loaded\n",
      "Block 0:8 loaded\n",
      "Block 0:9 loaded\n",
      "Block 1:0 loaded\n",
      "Block 1:1 loaded\n",
      "Block 1:2 loaded\n",
      "Block 1:3 loaded\n",
      "Block 1:4 loaded\n",
      "Block 1:5 loaded\n",
      "Block 1:6 loaded\n",
      "Block 1:7 loaded\n",
      "Block 1:8 loaded\n",
      "Block 1:9 loaded\n",
      "Block 2:0 loaded\n",
      "Block 2:1 loaded\n",
      "Block 2:2 loaded\n",
      "Block 2:3 loaded\n",
      "Block 2:4 loaded\n",
      "Block 2:5 loaded\n",
      "Block 2:6 loaded\n",
      "Block 2:7 loaded\n",
      "Block 2:8 loaded\n",
      "Block 2:9 loaded\n",
      "Block 3:0 loaded\n",
      "Block 3:1 loaded\n",
      "Block 3:2 loaded\n",
      "Block 3:3 loaded\n",
      "Block 3:4 loaded\n",
      "Block 3:5 loaded\n",
      "Block 3:6 loaded\n",
      "Block 3:7 loaded\n",
      "Block 3:8 loaded\n",
      "Block 3:9 loaded\n",
      "Block 4:0 loaded\n",
      "Block 4:1 loaded\n",
      "Block 4:2 loaded\n",
      "Block 4:3 loaded\n",
      "Block 4:4 loaded\n",
      "Block 4:5 loaded\n",
      "Block 4:6 loaded\n",
      "Block 4:7 loaded\n",
      "Block 4:8 loaded\n",
      "Block 4:9 loaded\n",
      "Block 5:0 loaded\n",
      "Block 5:1 loaded\n",
      "Block 5:2 loaded\n",
      "Block 5:3 loaded\n",
      "Block 5:4 loaded\n",
      "Block 5:5 loaded\n",
      "Block 5:6 loaded\n",
      "Block 5:7 loaded\n",
      "Block 5:8 loaded\n",
      "Block 5:9 loaded\n",
      "Block 6:0 loaded\n",
      "Block 6:1 loaded\n",
      "Block 6:2 loaded\n",
      "Block 6:3 loaded\n",
      "Block 6:4 loaded\n",
      "Block 6:5 loaded\n",
      "Block 6:6 loaded\n",
      "Block 6:7 loaded\n",
      "Block 6:8 loaded\n",
      "Block 6:9 loaded\n",
      "Block 7:0 loaded\n",
      "Block 7:1 loaded\n",
      "Block 7:2 loaded\n",
      "Block 7:3 loaded\n",
      "Block 7:4 loaded\n",
      "Block 7:5 loaded\n",
      "Block 7:6 loaded\n",
      "Block 7:7 loaded\n",
      "Block 7:8 loaded\n",
      "Block 7:9 loaded\n",
      "Block 8:0 loaded\n",
      "Block 8:1 loaded\n",
      "Block 8:2 loaded\n",
      "Block 8:3 loaded\n",
      "Block 8:4 loaded\n",
      "Block 8:5 loaded\n",
      "Block 8:6 loaded\n",
      "Block 8:7 loaded\n",
      "Block 8:8 loaded\n",
      "Block 8:9 loaded\n",
      "Block 9:0 loaded\n",
      "Block 9:1 loaded\n",
      "Block 9:2 loaded\n",
      "Block 9:3 loaded\n",
      "Block 9:4 loaded\n",
      "Block 9:5 loaded\n",
      "Block 9:6 loaded\n",
      "Block 9:7 loaded\n",
      "Block 9:8 loaded\n",
      "Block 9:9 loaded\n"
     ]
    }
   ],
   "source": [
    "for i in range(SIZE):\n",
    "    for j in range(SIZE):\n",
    "        block = np.loadtxt(f'/home/krab1k/Projects/ClusteringProteinChains/Results/{i:03d}_{j:03d}_qscores.csv.gz', delimiter=',', dtype=np.float32)\n",
    "        print(f'Block {i}:{j} loaded')\n",
    "        data[i * BLOCK_SIZE: (i + 1) * BLOCK_SIZE, j * BLOCK_SIZE: (j + 1) * BLOCK_SIZE] = block"
   ]
  },
  {
   "cell_type": "code",
   "execution_count": 6,
   "metadata": {},
   "outputs": [],
   "source": [
    "np.save('/home/krab1k/Projects/ClusteringProteinChains/Results/matrix.npy', data)"
   ]
  }
 ],
 "metadata": {
  "kernelspec": {
   "display_name": "Python 3",
   "language": "python",
   "name": "python3"
  },
  "language_info": {
   "codemirror_mode": {
    "name": "ipython",
    "version": 3
   },
   "file_extension": ".py",
   "mimetype": "text/x-python",
   "name": "python",
   "nbconvert_exporter": "python",
   "pygments_lexer": "ipython3",
   "version": "3.6.5"
  }
 },
 "nbformat": 4,
 "nbformat_minor": 2
}
