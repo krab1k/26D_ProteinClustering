{
 "cells": [
  {
   "cell_type": "code",
   "execution_count": 1,
   "metadata": {},
   "outputs": [],
   "source": [
    "import numpy as np"
   ]
  },
  {
   "cell_type": "code",
   "execution_count": 2,
   "metadata": {},
   "outputs": [],
   "source": [
    "# Define constants\n",
    "N = 30000"
   ]
  },
  {
   "cell_type": "code",
   "execution_count": 3,
   "metadata": {},
   "outputs": [],
   "source": [
    "# Load all 26D vectors\n",
    "vectors = np.loadtxt('vectors_new.txt', delimiter=',', dtype=np.int_)\n",
    "vectors = vectors[:N]"
   ]
  },
  {
   "cell_type": "code",
   "execution_count": 4,
   "metadata": {},
   "outputs": [],
   "source": [
    "# Load all IDs\n",
    "all_ids = [] \n",
    "with open('../correct_chains_sorted') as f:\n",
    "    for line in f:\n",
    "        pdbid, chainid = line.strip().split(':')\n",
    "        all_ids.append((pdbid, chainid))\n",
    "        \n",
    "all_ids = all_ids[:N]"
   ]
  },
  {
   "cell_type": "code",
   "execution_count": 6,
   "metadata": {},
   "outputs": [],
   "source": [
    "# Load Q-scores\n",
    "qscores = np.load('../Results/matrix.npy')\n",
    "qscores = qscores[:N, :N]"
   ]
  },
  {
   "cell_type": "code",
   "execution_count": 5,
   "metadata": {},
   "outputs": [],
   "source": [
    "# Load bad vectors ids len(qsco)and get their indices in all_ids\n",
    "bad_ids = []\n",
    "with open('bad_chains') as f:\n",
    "    for line in f:\n",
    "        pdbid, chainid = line.strip().split()\n",
    "        bad_ids.append((pdbid, chainid))\n",
    "        \n",
    "bad_indices = []\n",
    "for pair in bad_ids:\n",
    "    try:\n",
    "        idx = all_ids.index(pair)\n",
    "        bad_indices.append(idx)\n",
    "    except ValueError:\n",
    "        pass"
   ]
  },
  {
   "cell_type": "code",
   "execution_count": 6,
   "metadata": {},
   "outputs": [],
   "source": [
    "good_vectors = np.delete(vectors, bad_indices, 0)"
   ]
  },
  {
   "cell_type": "code",
   "execution_count": 12,
   "metadata": {},
   "outputs": [],
   "source": [
    "good_qscores = np.delete(qscores, bad_indices, 0)\n",
    "good_qscores = np.delete(good_qscores, bad_indices, 1)"
   ]
  },
  {
   "cell_type": "code",
   "execution_count": 13,
   "metadata": {},
   "outputs": [
    {
     "data": {
      "text/plain": [
       "(29135, 29135)"
      ]
     },
     "execution_count": 13,
     "metadata": {},
     "output_type": "execute_result"
    }
   ],
   "source": [
    "good_qscores.shape"
   ]
  },
  {
   "cell_type": "code",
   "execution_count": 7,
   "metadata": {},
   "outputs": [
    {
     "data": {
      "text/plain": [
       "(29135, 26)"
      ]
     },
     "execution_count": 7,
     "metadata": {},
     "output_type": "execute_result"
    }
   ],
   "source": [
    "good_vectors.shape"
   ]
  },
  {
   "cell_type": "code",
   "execution_count": 8,
   "metadata": {},
   "outputs": [],
   "source": [
    "np.savetxt('good_vectors30k_new.txt', good_vectors, delimiter=',', fmt='%d')"
   ]
  },
  {
   "cell_type": "code",
   "execution_count": 22,
   "metadata": {},
   "outputs": [],
   "source": [
    "np.save('good_qscores30k.npy', good_qscores)"
   ]
  },
  {
   "cell_type": "code",
   "execution_count": 34,
   "metadata": {},
   "outputs": [],
   "source": [
    "good_ids = [f'{i[0]}:{i[1]}' for i in all_ids if i not in set(bad_ids)]"
   ]
  },
  {
   "cell_type": "code",
   "execution_count": 37,
   "metadata": {},
   "outputs": [],
   "source": [
    "np.savetxt('good_ids.txt', good_ids, fmt='%s')"
   ]
  },
  {
   "cell_type": "code",
   "execution_count": null,
   "metadata": {},
   "outputs": [],
   "source": []
  }
 ],
 "metadata": {
  "kernelspec": {
   "display_name": "Python 3",
   "language": "python",
   "name": "python3"
  },
  "language_info": {
   "codemirror_mode": {
    "name": "ipython",
    "version": 3
   },
   "file_extension": ".py",
   "mimetype": "text/x-python",
   "name": "python",
   "nbconvert_exporter": "python",
   "pygments_lexer": "ipython3",
   "version": "3.6.6"
  }
 },
 "nbformat": 4,
 "nbformat_minor": 2
}
